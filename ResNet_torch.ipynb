{
 "cells": [
  {
   "cell_type": "markdown",
   "metadata": {},
   "source": [
    "<a href=\"https://colab.research.google.com/github/devasworski/Deeper-Networks-for-Image-Classification/blob/main/VGG_torch.ipynb\" target=\"_parent\"><img src=\"https://colab.research.google.com/assets/colab-badge.svg\" alt=\"Open In Colab\"/></a>"
   ]
  },
  {
   "cell_type": "markdown",
   "metadata": {},
   "source": [
    "# ResNet-50 for Image Classification using PyTorch\n",
    "\n",
    "Using ResNet-50 on the MNIST and CIFAR datasets for image classification.\n",
    "This is using the PyTorch library, which does not come with an implementation for continuous Checkpoints. \n",
    "For that reasons, this notebook currently does not save checkpoints. (This might be changed in a later revision)"
   ]
  },
  {
   "cell_type": "markdown",
   "metadata": {},
   "source": [
    "## Download dependencies (Only for Google Colab)"
   ]
  },
  {
   "cell_type": "code",
   "execution_count": null,
   "metadata": {},
   "outputs": [],
   "source": [
    "!git clone https://github.com/devasworski/Deeper-Networks-for-Image-Classification.git\n",
    "!mv \"/content/Deeper-Networks-for-Image-Classification/py/helper.py\" \"/content/\"\n",
    "!mv \"/content/Deeper-Networks-for-Image-Classification/py/datasets.py\" \"/content/\"\n",
    "!mv \"/content/Deeper-Networks-for-Image-Classification/py/ResNet_torch.py\" \"/content/\"\n",
    "!mv \"/content/Deeper-Networks-for-Image-Classification/py/helper_torch.py\" \"/content/\"\n",
    "!mv \"/content/Deeper-Networks-for-Image-Classification/py/datasets_torch.py\" \"/content/\"\n",
    "!rm \"/content/Deeper-Networks-for-Image-Classification/\" -r"
   ]
  },
  {
   "cell_type": "markdown",
   "metadata": {
    "id": "amdOnmxIGoU4"
   },
   "source": [
    "## Imports"
   ]
  },
  {
   "cell_type": "code",
   "execution_count": 1,
   "metadata": {},
   "outputs": [],
   "source": [
    "try:\n",
    "  from py import ResNet_torch as ResNet\n",
    "  from py import helper as nnh\n",
    "  from py import helper_torch as tnnh\n",
    "except ImportError:\n",
    "  import ResNet_torch as ResNet\n",
    "  import helper as nnh\n",
    "  import helper_torch as tnnh\n",
    "from torchsummary import summary"
   ]
  },
  {
   "cell_type": "markdown",
   "metadata": {},
   "source": [
    "## Hyperparameters"
   ]
  },
  {
   "cell_type": "code",
   "execution_count": 2,
   "metadata": {},
   "outputs": [],
   "source": [
    "EPOCHS = 20\n",
    "LEARNING_RATE = 0.01\n",
    "DATASET = nnh.Dataset.CIFAR\n",
    "OPTIMIZER = nnh.Optimizer.SGD\n",
    "MODELNAME = 'ResNet-50'"
   ]
  },
  {
   "cell_type": "markdown",
   "metadata": {},
   "source": [
    "## Load Dataset"
   ]
  },
  {
   "cell_type": "code",
   "execution_count": null,
   "metadata": {},
   "outputs": [],
   "source": [
    "train_loader, valid_loader, test_loader = tnnh.getDataset(DATASET)"
   ]
  },
  {
   "cell_type": "markdown",
   "metadata": {},
   "source": [
    "## Load Model"
   ]
  },
  {
   "cell_type": "code",
   "execution_count": 3,
   "metadata": {},
   "outputs": [
    {
     "name": "stdout",
     "output_type": "stream",
     "text": [
      "----------------------------------------------------------------\n",
      "        Layer (type)               Output Shape         Param #\n",
      "================================================================\n",
      "            Conv2d-1           [-1, 64, 32, 32]           9,472\n",
      "       BatchNorm2d-2           [-1, 64, 32, 32]             128\n",
      "              ReLU-3           [-1, 64, 32, 32]               0\n",
      "         MaxPool2d-4           [-1, 64, 16, 16]               0\n",
      "            Conv2d-5           [-1, 64, 16, 16]           4,160\n",
      "       BatchNorm2d-6           [-1, 64, 16, 16]             128\n",
      "              ReLU-7           [-1, 64, 16, 16]               0\n",
      "            Conv2d-8           [-1, 64, 16, 16]          36,928\n",
      "       BatchNorm2d-9           [-1, 64, 16, 16]             128\n",
      "             ReLU-10           [-1, 64, 16, 16]               0\n",
      "           Conv2d-11          [-1, 256, 16, 16]          16,640\n",
      "      BatchNorm2d-12          [-1, 256, 16, 16]             512\n",
      "           Conv2d-13          [-1, 256, 16, 16]          16,640\n",
      "      BatchNorm2d-14          [-1, 256, 16, 16]             512\n",
      "             ReLU-15          [-1, 256, 16, 16]               0\n",
      "            Block-16          [-1, 256, 16, 16]               0\n",
      "           Conv2d-17           [-1, 64, 16, 16]          16,448\n",
      "      BatchNorm2d-18           [-1, 64, 16, 16]             128\n",
      "             ReLU-19           [-1, 64, 16, 16]               0\n",
      "           Conv2d-20           [-1, 64, 16, 16]          36,928\n",
      "      BatchNorm2d-21           [-1, 64, 16, 16]             128\n",
      "             ReLU-22           [-1, 64, 16, 16]               0\n",
      "           Conv2d-23          [-1, 256, 16, 16]          16,640\n",
      "      BatchNorm2d-24          [-1, 256, 16, 16]             512\n",
      "             ReLU-25          [-1, 256, 16, 16]               0\n",
      "            Block-26          [-1, 256, 16, 16]               0\n",
      "           Conv2d-27           [-1, 64, 16, 16]          16,448\n",
      "      BatchNorm2d-28           [-1, 64, 16, 16]             128\n",
      "             ReLU-29           [-1, 64, 16, 16]               0\n",
      "           Conv2d-30           [-1, 64, 16, 16]          36,928\n",
      "      BatchNorm2d-31           [-1, 64, 16, 16]             128\n",
      "             ReLU-32           [-1, 64, 16, 16]               0\n",
      "           Conv2d-33          [-1, 256, 16, 16]          16,640\n",
      "      BatchNorm2d-34          [-1, 256, 16, 16]             512\n",
      "             ReLU-35          [-1, 256, 16, 16]               0\n",
      "            Block-36          [-1, 256, 16, 16]               0\n",
      "           Conv2d-37          [-1, 128, 16, 16]          32,896\n",
      "      BatchNorm2d-38          [-1, 128, 16, 16]             256\n",
      "             ReLU-39          [-1, 128, 16, 16]               0\n",
      "           Conv2d-40            [-1, 128, 8, 8]         147,584\n",
      "      BatchNorm2d-41            [-1, 128, 8, 8]             256\n",
      "             ReLU-42            [-1, 128, 8, 8]               0\n",
      "           Conv2d-43            [-1, 512, 8, 8]          66,048\n",
      "      BatchNorm2d-44            [-1, 512, 8, 8]           1,024\n",
      "           Conv2d-45            [-1, 512, 8, 8]         131,584\n",
      "      BatchNorm2d-46            [-1, 512, 8, 8]           1,024\n",
      "             ReLU-47            [-1, 512, 8, 8]               0\n",
      "            Block-48            [-1, 512, 8, 8]               0\n",
      "           Conv2d-49            [-1, 128, 8, 8]          65,664\n",
      "      BatchNorm2d-50            [-1, 128, 8, 8]             256\n",
      "             ReLU-51            [-1, 128, 8, 8]               0\n",
      "           Conv2d-52            [-1, 128, 8, 8]         147,584\n",
      "      BatchNorm2d-53            [-1, 128, 8, 8]             256\n",
      "             ReLU-54            [-1, 128, 8, 8]               0\n",
      "           Conv2d-55            [-1, 512, 8, 8]          66,048\n",
      "      BatchNorm2d-56            [-1, 512, 8, 8]           1,024\n",
      "             ReLU-57            [-1, 512, 8, 8]               0\n",
      "            Block-58            [-1, 512, 8, 8]               0\n",
      "           Conv2d-59            [-1, 128, 8, 8]          65,664\n",
      "      BatchNorm2d-60            [-1, 128, 8, 8]             256\n",
      "             ReLU-61            [-1, 128, 8, 8]               0\n",
      "           Conv2d-62            [-1, 128, 8, 8]         147,584\n",
      "      BatchNorm2d-63            [-1, 128, 8, 8]             256\n",
      "             ReLU-64            [-1, 128, 8, 8]               0\n",
      "           Conv2d-65            [-1, 512, 8, 8]          66,048\n",
      "      BatchNorm2d-66            [-1, 512, 8, 8]           1,024\n",
      "             ReLU-67            [-1, 512, 8, 8]               0\n",
      "            Block-68            [-1, 512, 8, 8]               0\n",
      "           Conv2d-69            [-1, 128, 8, 8]          65,664\n",
      "      BatchNorm2d-70            [-1, 128, 8, 8]             256\n",
      "             ReLU-71            [-1, 128, 8, 8]               0\n",
      "           Conv2d-72            [-1, 128, 8, 8]         147,584\n",
      "      BatchNorm2d-73            [-1, 128, 8, 8]             256\n",
      "             ReLU-74            [-1, 128, 8, 8]               0\n",
      "           Conv2d-75            [-1, 512, 8, 8]          66,048\n",
      "      BatchNorm2d-76            [-1, 512, 8, 8]           1,024\n",
      "             ReLU-77            [-1, 512, 8, 8]               0\n",
      "            Block-78            [-1, 512, 8, 8]               0\n",
      "           Conv2d-79            [-1, 256, 8, 8]         131,328\n",
      "      BatchNorm2d-80            [-1, 256, 8, 8]             512\n",
      "             ReLU-81            [-1, 256, 8, 8]               0\n",
      "           Conv2d-82            [-1, 256, 4, 4]         590,080\n",
      "      BatchNorm2d-83            [-1, 256, 4, 4]             512\n",
      "             ReLU-84            [-1, 256, 4, 4]               0\n",
      "           Conv2d-85           [-1, 1024, 4, 4]         263,168\n",
      "      BatchNorm2d-86           [-1, 1024, 4, 4]           2,048\n",
      "           Conv2d-87           [-1, 1024, 4, 4]         525,312\n",
      "      BatchNorm2d-88           [-1, 1024, 4, 4]           2,048\n",
      "             ReLU-89           [-1, 1024, 4, 4]               0\n",
      "            Block-90           [-1, 1024, 4, 4]               0\n",
      "           Conv2d-91            [-1, 256, 4, 4]         262,400\n",
      "      BatchNorm2d-92            [-1, 256, 4, 4]             512\n",
      "             ReLU-93            [-1, 256, 4, 4]               0\n",
      "           Conv2d-94            [-1, 256, 4, 4]         590,080\n",
      "      BatchNorm2d-95            [-1, 256, 4, 4]             512\n",
      "             ReLU-96            [-1, 256, 4, 4]               0\n",
      "           Conv2d-97           [-1, 1024, 4, 4]         263,168\n",
      "      BatchNorm2d-98           [-1, 1024, 4, 4]           2,048\n",
      "             ReLU-99           [-1, 1024, 4, 4]               0\n",
      "           Block-100           [-1, 1024, 4, 4]               0\n",
      "          Conv2d-101            [-1, 256, 4, 4]         262,400\n",
      "     BatchNorm2d-102            [-1, 256, 4, 4]             512\n",
      "            ReLU-103            [-1, 256, 4, 4]               0\n",
      "          Conv2d-104            [-1, 256, 4, 4]         590,080\n",
      "     BatchNorm2d-105            [-1, 256, 4, 4]             512\n",
      "            ReLU-106            [-1, 256, 4, 4]               0\n",
      "          Conv2d-107           [-1, 1024, 4, 4]         263,168\n",
      "     BatchNorm2d-108           [-1, 1024, 4, 4]           2,048\n",
      "            ReLU-109           [-1, 1024, 4, 4]               0\n",
      "           Block-110           [-1, 1024, 4, 4]               0\n",
      "          Conv2d-111            [-1, 256, 4, 4]         262,400\n",
      "     BatchNorm2d-112            [-1, 256, 4, 4]             512\n",
      "            ReLU-113            [-1, 256, 4, 4]               0\n",
      "          Conv2d-114            [-1, 256, 4, 4]         590,080\n",
      "     BatchNorm2d-115            [-1, 256, 4, 4]             512\n",
      "            ReLU-116            [-1, 256, 4, 4]               0\n",
      "          Conv2d-117           [-1, 1024, 4, 4]         263,168\n",
      "     BatchNorm2d-118           [-1, 1024, 4, 4]           2,048\n",
      "            ReLU-119           [-1, 1024, 4, 4]               0\n",
      "           Block-120           [-1, 1024, 4, 4]               0\n",
      "          Conv2d-121            [-1, 256, 4, 4]         262,400\n",
      "     BatchNorm2d-122            [-1, 256, 4, 4]             512\n",
      "            ReLU-123            [-1, 256, 4, 4]               0\n",
      "          Conv2d-124            [-1, 256, 4, 4]         590,080\n",
      "     BatchNorm2d-125            [-1, 256, 4, 4]             512\n",
      "            ReLU-126            [-1, 256, 4, 4]               0\n",
      "          Conv2d-127           [-1, 1024, 4, 4]         263,168\n",
      "     BatchNorm2d-128           [-1, 1024, 4, 4]           2,048\n",
      "            ReLU-129           [-1, 1024, 4, 4]               0\n",
      "           Block-130           [-1, 1024, 4, 4]               0\n",
      "          Conv2d-131            [-1, 256, 4, 4]         262,400\n",
      "     BatchNorm2d-132            [-1, 256, 4, 4]             512\n",
      "            ReLU-133            [-1, 256, 4, 4]               0\n",
      "          Conv2d-134            [-1, 256, 4, 4]         590,080\n",
      "     BatchNorm2d-135            [-1, 256, 4, 4]             512\n",
      "            ReLU-136            [-1, 256, 4, 4]               0\n",
      "          Conv2d-137           [-1, 1024, 4, 4]         263,168\n",
      "     BatchNorm2d-138           [-1, 1024, 4, 4]           2,048\n",
      "            ReLU-139           [-1, 1024, 4, 4]               0\n",
      "           Block-140           [-1, 1024, 4, 4]               0\n",
      "          Conv2d-141            [-1, 512, 4, 4]         524,800\n",
      "     BatchNorm2d-142            [-1, 512, 4, 4]           1,024\n",
      "            ReLU-143            [-1, 512, 4, 4]               0\n",
      "          Conv2d-144            [-1, 512, 2, 2]       2,359,808\n",
      "     BatchNorm2d-145            [-1, 512, 2, 2]           1,024\n",
      "            ReLU-146            [-1, 512, 2, 2]               0\n",
      "          Conv2d-147           [-1, 2048, 2, 2]       1,050,624\n",
      "     BatchNorm2d-148           [-1, 2048, 2, 2]           4,096\n",
      "          Conv2d-149           [-1, 2048, 2, 2]       2,099,200\n",
      "     BatchNorm2d-150           [-1, 2048, 2, 2]           4,096\n",
      "            ReLU-151           [-1, 2048, 2, 2]               0\n",
      "           Block-152           [-1, 2048, 2, 2]               0\n",
      "          Conv2d-153            [-1, 512, 2, 2]       1,049,088\n",
      "     BatchNorm2d-154            [-1, 512, 2, 2]           1,024\n",
      "            ReLU-155            [-1, 512, 2, 2]               0\n",
      "          Conv2d-156            [-1, 512, 2, 2]       2,359,808\n",
      "     BatchNorm2d-157            [-1, 512, 2, 2]           1,024\n",
      "            ReLU-158            [-1, 512, 2, 2]               0\n",
      "          Conv2d-159           [-1, 2048, 2, 2]       1,050,624\n",
      "     BatchNorm2d-160           [-1, 2048, 2, 2]           4,096\n",
      "            ReLU-161           [-1, 2048, 2, 2]               0\n",
      "           Block-162           [-1, 2048, 2, 2]               0\n",
      "          Conv2d-163            [-1, 512, 2, 2]       1,049,088\n",
      "     BatchNorm2d-164            [-1, 512, 2, 2]           1,024\n",
      "            ReLU-165            [-1, 512, 2, 2]               0\n",
      "          Conv2d-166            [-1, 512, 2, 2]       2,359,808\n",
      "     BatchNorm2d-167            [-1, 512, 2, 2]           1,024\n",
      "            ReLU-168            [-1, 512, 2, 2]               0\n",
      "          Conv2d-169           [-1, 2048, 2, 2]       1,050,624\n",
      "     BatchNorm2d-170           [-1, 2048, 2, 2]           4,096\n",
      "            ReLU-171           [-1, 2048, 2, 2]               0\n",
      "           Block-172           [-1, 2048, 2, 2]               0\n",
      "AdaptiveAvgPool2d-173           [-1, 2048, 1, 1]               0\n",
      "          Linear-174                   [-1, 10]          20,490\n",
      "================================================================\n",
      "Total params: 23,555,082\n",
      "Trainable params: 23,555,082\n",
      "Non-trainable params: 0\n",
      "----------------------------------------------------------------\n",
      "Input size (MB): 0.05\n",
      "Forward/backward pass size (MB): 23.41\n",
      "Params size (MB): 89.86\n",
      "Estimated Total Size (MB): 113.31\n",
      "----------------------------------------------------------------\n"
     ]
    }
   ],
   "source": [
    "model = ResNet.resnet(10)\n",
    "model = model.to(tnnh.getTorchDevice())\n",
    "summary(model,(3, 64, 64))"
   ]
  },
  {
   "cell_type": "markdown",
   "metadata": {},
   "source": [
    "## Train Model"
   ]
  },
  {
   "cell_type": "code",
   "execution_count": null,
   "metadata": {},
   "outputs": [],
   "source": [
    "tnnh.train(model=model, num_epochs=EPOCHS, train_loader=train_loader, valid_loader=valid_loader, test_loader=test_loader, optimizer=tnnh.getOptimizer(OPTIMIZER,model))"
   ]
  },
  {
   "cell_type": "markdown",
   "metadata": {},
   "source": [
    "## Evaluate Model"
   ]
  },
  {
   "cell_type": "code",
   "execution_count": null,
   "metadata": {},
   "outputs": [],
   "source": [
    "tnnh.printAccuracy(model,test_loader)"
   ]
  },
  {
   "cell_type": "code",
   "execution_count": null,
   "metadata": {},
   "outputs": [],
   "source": [
    "tnnh.plot_confusion_matrix(model,test_loader,DATASET,MODELNAME,OPTIMIZER)"
   ]
  }
 ],
 "metadata": {
  "interpreter": {
   "hash": "c48c3a8482933fa3f915c1c8bd1041548e4f90c4d9e84675c919ff6c6d6d52f6"
  },
  "kernelspec": {
   "display_name": "Python 3.7.12 ('DLCV')",
   "language": "python",
   "name": "python3"
  },
  "language_info": {
   "codemirror_mode": {
    "name": "ipython",
    "version": 3
   },
   "file_extension": ".py",
   "mimetype": "text/x-python",
   "name": "python",
   "nbconvert_exporter": "python",
   "pygments_lexer": "ipython3",
   "version": "3.7.12"
  },
  "orig_nbformat": 4
 },
 "nbformat": 4,
 "nbformat_minor": 2
}
