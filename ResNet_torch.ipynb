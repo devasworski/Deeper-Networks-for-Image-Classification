{
 "cells": [
  {
   "cell_type": "markdown",
   "metadata": {},
   "source": [
    "<a href=\"https://colab.research.google.com/github/devasworski/Deeper-Networks-for-Image-Classification/blob/main/VGG_torch.ipynb\" target=\"_parent\"><img src=\"https://colab.research.google.com/assets/colab-badge.svg\" alt=\"Open In Colab\"/></a>"
   ]
  },
  {
   "cell_type": "markdown",
   "metadata": {},
   "source": [
    "# ResNet-50 for Image Classification using PyTorch\n",
    "\n",
    "Using ResNet-50 on the MNIST and CIFAR datasets for image classification.\n",
    "This is using the PyTorch library, which does not come with an implementation for continuous Checkpoints. \n",
    "For that reasons, this notebook currently does not save checkpoints. (This might be changed in a later revision)"
   ]
  },
  {
   "cell_type": "markdown",
   "metadata": {},
   "source": [
    "## Download dependencies (Only for Google Colab)"
   ]
  },
  {
   "cell_type": "code",
   "execution_count": null,
   "metadata": {},
   "outputs": [],
   "source": [
    "!git clone https://github.com/devasworski/Deeper-Networks-for-Image-Classification.git\n",
    "!mv \"/content/Deeper-Networks-for-Image-Classification/py/helper.py\" \"/content/\"\n",
    "!mv \"/content/Deeper-Networks-for-Image-Classification/py/datasets.py\" \"/content/\"\n",
    "!mv \"/content/Deeper-Networks-for-Image-Classification/py/ResNet_torch.py\" \"/content/\"\n",
    "!mv \"/content/Deeper-Networks-for-Image-Classification/py/helper_torch.py\" \"/content/\"\n",
    "!mv \"/content/Deeper-Networks-for-Image-Classification/py/datasets_torch.py\" \"/content/\"\n",
    "!rm \"/content/Deeper-Networks-for-Image-Classification/\" -r"
   ]
  },
  {
   "cell_type": "markdown",
   "metadata": {
    "id": "amdOnmxIGoU4"
   },
   "source": [
    "## Imports"
   ]
  },
  {
   "cell_type": "code",
   "execution_count": null,
   "metadata": {},
   "outputs": [],
   "source": [
    "try:\n",
    "  from py import ResNet_torch as ResNet\n",
    "  from py import helper as nnh\n",
    "  from py import helper_torch as tnnh\n",
    "except ImportError:\n",
    "  import ResNet_torch as ResNet\n",
    "  import helper as nnh\n",
    "  import helper_torch as tnnh\n",
    "from torchsummary import summary"
   ]
  },
  {
   "cell_type": "markdown",
   "metadata": {},
   "source": [
    "## Hyperparameters"
   ]
  },
  {
   "cell_type": "code",
   "execution_count": null,
   "metadata": {},
   "outputs": [],
   "source": [
    "EPOCHS = 20\n",
    "LEARNING_RATE = 0.01\n",
    "DATASET = nnh.Dataset.CIFAR\n",
    "OPTIMIZER = nnh.Optimizer.SGD\n",
    "MODELNAME = 'ResNet-50'"
   ]
  },
  {
   "cell_type": "markdown",
   "metadata": {},
   "source": [
    "## Load Dataset"
   ]
  },
  {
   "cell_type": "code",
   "execution_count": null,
   "metadata": {},
   "outputs": [],
   "source": [
    "train_loader, valid_loader, test_loader = tnnh.getDataset(DATASET)"
   ]
  },
  {
   "cell_type": "markdown",
   "metadata": {},
   "source": [
    "## Load Model"
   ]
  },
  {
   "cell_type": "code",
   "execution_count": null,
   "metadata": {},
   "outputs": [],
   "source": [
    "model = ResNet.resnet(10)\n",
    "model = model.to(tnnh.getTorchDevice())\n",
    "summary(model,(3, 64, 64))"
   ]
  },
  {
   "cell_type": "markdown",
   "metadata": {},
   "source": [
    "## Train Model"
   ]
  },
  {
   "cell_type": "code",
   "execution_count": null,
   "metadata": {},
   "outputs": [],
   "source": [
    "tnnh.train(model=model, num_epochs=EPOCHS, train_loader=train_loader, valid_loader=valid_loader, test_loader=test_loader, optimizer=tnnh.getOptimizer(OPTIMIZER,model))"
   ]
  },
  {
   "cell_type": "markdown",
   "metadata": {},
   "source": [
    "## Evaluate Model"
   ]
  },
  {
   "cell_type": "code",
   "execution_count": null,
   "metadata": {},
   "outputs": [],
   "source": [
    "tnnh.printAccuracy(model,test_loader)"
   ]
  },
  {
   "cell_type": "code",
   "execution_count": null,
   "metadata": {},
   "outputs": [],
   "source": [
    "tnnh.plot_confusion_matrix(model,test_loader,DATASET,MODELNAME,OPTIMIZER)"
   ]
  }
 ],
 "metadata": {
  "interpreter": {
   "hash": "c48c3a8482933fa3f915c1c8bd1041548e4f90c4d9e84675c919ff6c6d6d52f6"
  },
  "kernelspec": {
   "display_name": "Python 3.7.12 ('DLCV')",
   "language": "python",
   "name": "python3"
  },
  "language_info": {
   "codemirror_mode": {
    "name": "ipython",
    "version": 3
   },
   "file_extension": ".py",
   "mimetype": "text/x-python",
   "name": "python",
   "nbconvert_exporter": "python",
   "pygments_lexer": "ipython3",
   "version": "3.7.12"
  },
  "orig_nbformat": 4
 },
 "nbformat": 4,
 "nbformat_minor": 2
}
