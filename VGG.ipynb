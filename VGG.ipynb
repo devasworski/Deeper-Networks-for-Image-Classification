{
 "cells": [
  {
   "cell_type": "markdown",
   "metadata": {},
   "source": [
    "<a href=\"https://colab.research.google.com/github/devasworski/Deeper-Networks-for-Image-Classification/blob/main/VGG.ipynb\" target=\"_parent\"><img src=\"https://colab.research.google.com/assets/colab-badge.svg\" alt=\"Open In Colab\"/></a>"
   ]
  },
  {
   "cell_type": "markdown",
   "metadata": {},
   "source": [
    "# VGG16 for Image Classification\n",
    "\n",
    "Using VGG16 on the MNIST and CIFAR datasets for image classification."
   ]
  },
  {
   "cell_type": "markdown",
   "metadata": {},
   "source": [
    "## Download dependencies (Only for Google Colab)"
   ]
  },
  {
   "cell_type": "code",
   "execution_count": null,
   "metadata": {},
   "outputs": [],
   "source": [
    "!git clone https://github.com/devasworski/Deeper-Networks-for-Image-Classification.git\n",
    "!mv \"/content/Deeper-Networks-for-Image-Classification/py/helper.py\" \"/content/\"\n",
    "!mv \"/content/Deeper-Networks-for-Image-Classification/py/datasets.py\" \"/content/\"\n",
    "!mv \"/content/Deeper-Networks-for-Image-Classification/py/VGG.py\" \"/content/\"\n",
    "!rm \"/content/Deeper-Networks-for-Image-Classification/\" -r"
   ]
  },
  {
   "cell_type": "code",
   "execution_count": null,
   "metadata": {},
   "outputs": [],
   "source": [
    "from google.colab import drive\n",
    "drive.mount('/content/drive')"
   ]
  },
  {
   "cell_type": "markdown",
   "metadata": {
    "id": "amdOnmxIGoU4"
   },
   "source": [
    "## Imports"
   ]
  },
  {
   "cell_type": "code",
   "execution_count": 2,
   "metadata": {},
   "outputs": [],
   "source": [
    "try:\n",
    "  from py import VGG\n",
    "  from py import helper as nnh\n",
    "except ImportError:\n",
    "  import VGG\n",
    "  import helper as nnh"
   ]
  },
  {
   "cell_type": "markdown",
   "metadata": {},
   "source": [
    "## Hyperparameters"
   ]
  },
  {
   "cell_type": "code",
   "execution_count": 3,
   "metadata": {},
   "outputs": [],
   "source": [
    "EPOCHS = 20\n",
    "LEARNING_RATE = 0.01\n",
    "DATASET = nnh.Dataset.MNIST\n",
    "RUNTIME = nnh.Runtime.colab\n",
    "OPTIMIZER = nnh.Optimizer.SGD\n",
    "MODELNAME = 'VGG-16'\n",
    "CHECKPOINT_PATH = \"/content/drive/MyDrive/Deeper-Networks-for-Image-Classification/Checkpoints/VGG/\"+str(DATASET.value)+\"/\"+str(OPTIMIZER.value)+\"/cp-{epoch:04d}.ckpt\" if RUNTIME == nnh.Runtime.colab else \"./Checkpoints/VGG/\"+str(DATASET.value)+\"/\"+str(OPTIMIZER.value)+\"/cp-{epoch:04d}.ckpt\""
   ]
  },
  {
   "cell_type": "markdown",
   "metadata": {},
   "source": [
    "## Load Dataset"
   ]
  },
  {
   "cell_type": "code",
   "execution_count": null,
   "metadata": {},
   "outputs": [],
   "source": [
    "(x_train, y_train), (x_val, y_val), (x_test, y_test) = nnh.getDataset(DATASET)"
   ]
  },
  {
   "cell_type": "markdown",
   "metadata": {},
   "source": [
    "## Load Model"
   ]
  },
  {
   "cell_type": "code",
   "execution_count": null,
   "metadata": {},
   "outputs": [],
   "source": [
    "model = VGG.vgg16(10)\n",
    "model.summary()\n",
    "model.compile(optimizer=nnh.getOptimizer(OPTIMIZER,LEARNING_RATE), loss='categorical_crossentropy', metrics=['accuracy'])"
   ]
  },
  {
   "cell_type": "markdown",
   "metadata": {},
   "source": [
    "## Train Model"
   ]
  },
  {
   "cell_type": "code",
   "execution_count": null,
   "metadata": {},
   "outputs": [],
   "source": [
    "model.fit(x=x_train, y=y_train, epochs=EPOCHS, verbose=1, validation_data=(x_test, y_test), batch_size=32, callbacks=nnh.CheckpointCallback(CHECKPOINT_PATH))"
   ]
  },
  {
   "cell_type": "markdown",
   "metadata": {},
   "source": [
    "## Evaluate Model"
   ]
  },
  {
   "cell_type": "markdown",
   "metadata": {},
   "source": [
    "### Load Checkpoint"
   ]
  },
  {
   "cell_type": "code",
   "execution_count": null,
   "metadata": {},
   "outputs": [],
   "source": [
    "epoch_num = EPOCHS\n",
    "path = CHECKPOINT_PATH.format(epoch=epoch_num)\n",
    "model.load_weights(path)"
   ]
  },
  {
   "cell_type": "markdown",
   "metadata": {},
   "source": [
    "### Print Evaluation"
   ]
  },
  {
   "cell_type": "code",
   "execution_count": null,
   "metadata": {},
   "outputs": [],
   "source": [
    "nnh.printAccuracy(model,x_test,y_test,0)"
   ]
  },
  {
   "cell_type": "code",
   "execution_count": null,
   "metadata": {},
   "outputs": [],
   "source": [
    "nnh.plot_confusion_matrix(model,x_test,y_test,DATASET,MODELNAME,OPTIMIZER)"
   ]
  }
 ],
 "metadata": {
  "interpreter": {
   "hash": "c48c3a8482933fa3f915c1c8bd1041548e4f90c4d9e84675c919ff6c6d6d52f6"
  },
  "kernelspec": {
   "display_name": "Python 3.7.12 ('DLCV')",
   "language": "python",
   "name": "python3"
  },
  "language_info": {
   "codemirror_mode": {
    "name": "ipython",
    "version": 3
   },
   "file_extension": ".py",
   "mimetype": "text/x-python",
   "name": "python",
   "nbconvert_exporter": "python",
   "pygments_lexer": "ipython3",
   "version": "3.7.12"
  },
  "orig_nbformat": 4
 },
 "nbformat": 4,
 "nbformat_minor": 2
}
